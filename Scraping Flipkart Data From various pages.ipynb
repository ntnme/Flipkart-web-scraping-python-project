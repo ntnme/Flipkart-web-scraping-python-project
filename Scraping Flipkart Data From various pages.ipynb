{
 "cells": [
  {
   "cell_type": "code",
   "execution_count": null,
   "id": "dd4bc220",
   "metadata": {},
   "outputs": [],
   "source": [
    "#Importing Pakages\n",
    "\n",
    "import requests\n",
    "import os\n",
    "import pandas as pd\n",
    "from bs4 import BeautifulSoup\n",
    "import numpy as np\n"
   ]
  },
  {
   "cell_type": "code",
   "execution_count": null,
   "id": "10d10d08",
   "metadata": {},
   "outputs": [],
   "source": [
    "# Defining page 1 URL of Flipkart Mobile Section \n",
    "\n",
    "url = 'https://www.flipkart.com/mobiles/pr?sid=tyy%2C4io&marketplace=FLIPKART&page=1'"
   ]
  },
  {
   "cell_type": "code",
   "execution_count": null,
   "id": "1f4c99a1",
   "metadata": {},
   "outputs": [],
   "source": [
    "# Headers for request\n",
    "\n",
    "HEADERS = ({'User-Agent':'Mozilla/5.0 (Windows NT 10.0; Win64; x64) AppleWebKit/537.36 (KHTML, like Gecko) Chrome/117.0.0.0 Safari/537.36', 'Accept-Language': 'en-US, en;q=0.5'}) "
   ]
  },
  {
   "cell_type": "code",
   "execution_count": null,
   "id": "17d7ecb9",
   "metadata": {},
   "outputs": [],
   "source": [
    "# Finding total number of pages\n",
    "\n",
    "# Creating Range for loop to run \n",
    "webpage = requests.get(url , headers = HEADERS)\n",
    "\n",
    "soup = BeautifulSoup(webpage.content,\"html.parser\")\n",
    "\n",
    "# extracting total number of pages\n",
    "\n",
    "pagination = soup.find(\"div\", class_=\"_2MImiq\").find(\"span\").text\n",
    "\n",
    "total_pages = int(pagination.split()[-1])  \n",
    "\n",
    "# total number of pages: \n",
    "total_pages"
   ]
  },
  {
   "cell_type": "code",
   "execution_count": null,
   "id": "d053b806",
   "metadata": {},
   "outputs": [],
   "source": [
    "# Making list of ULR of all the pages\n",
    "\n",
    "next_page_url = []\n",
    "\n",
    "for i in range(total_pages):\n",
    "    url = 'https://www.flipkart.com/mobiles/pr?sid=tyy%2C4io&marketplace=FLIPKART&page='+str(i+1)\n",
    "\n",
    "    next_page_url.append(url) "
   ]
  },
  {
   "cell_type": "code",
   "execution_count": null,
   "id": "60027cee",
   "metadata": {},
   "outputs": [],
   "source": [
    "# Creating Loop that will store the link of all the items on all the pages\n",
    "\n",
    "links_list = []\n",
    "for page in next_page_url:\n",
    "    try:\n",
    "        webpage = requests.get(page , headers = HEADERS,timeout=2.50)\n",
    "        soup = BeautifulSoup(webpage.content,\"html.parser\") \n",
    "        pagination = soup.find(\"div\", class_=\"_2MImiq\").find(\"span\").text\n",
    "        links = soup.find_all('a' , attrs = {'class' : '_1fQZEK'})\n",
    "        for link in links:\n",
    "            links_list.append(link.get('href'))\n",
    "    except AttributeError:\n",
    "        break"
   ]
  },
  {
   "cell_type": "code",
   "execution_count": null,
   "id": "e82c2b0c",
   "metadata": {},
   "outputs": [],
   "source": [
    "# Defing functions for the items we want to Extract\n",
    "\n",
    "def get_title(soup):\n",
    "    try:\n",
    "        title = new_soup.find(\"span\" , attrs = {\"class\" : 'B_NuCI'}).text \n",
    "    \n",
    "        return title\n",
    "    except AttributeError:\n",
    "        title = ''\n",
    "\n",
    "\n",
    "def get_price(soup):\n",
    "    try:\n",
    "        price =new_soup.find(\"div\" , attrs = {\"class\" : '_30jeq3 _16Jk6d'}).text\n",
    "        \n",
    "        return price\n",
    "    except AttributeError:\n",
    "        price = ''\n",
    "    \n",
    "def get_rating(soup):\n",
    "    try:\n",
    "        rating = new_soup.find(\"div\" , attrs = {\"class\" : '_3LWZlK'}).text\n",
    "\n",
    "        return rating\n",
    "    except AttributeError:\n",
    "        rating = ''\n",
    "    \n",
    "def get_rating_count(soup):    \n",
    "    try:\n",
    "        rating_span = new_soup.find(\"span\", class_=\"_2_R_DZ\")\n",
    "\n",
    "        if rating_span:\n",
    "            rating_text = rating_span.text.strip()\n",
    "            rating_count = rating_text.split(\"&\")[0].strip()\n",
    "\n",
    "        else:\n",
    "            print(\"Rating span not found.\")\n",
    "\n",
    "        return rating_count\n",
    "    except :\n",
    "        rating_count = ''\n"
   ]
  },
  {
   "cell_type": "code",
   "execution_count": null,
   "id": "3130c28e",
   "metadata": {},
   "outputs": [],
   "source": [
    "#Making Dictionary to store the data\n",
    "\n",
    "d = {\"title\":[], \"price\":[], \"rating\":[]}"
   ]
  },
  {
   "cell_type": "code",
   "execution_count": null,
   "id": "b7da2cc3",
   "metadata": {},
   "outputs": [],
   "source": [
    "# Loop for extracting product details from each link \n",
    "\n",
    "for link in links_list:\n",
    "        new_webpage = requests.get(\"https://www.flipkart.com\" + link, headers=HEADERS)\n",
    "\n",
    "        new_soup = BeautifulSoup(new_webpage.content, \"html.parser\")\n",
    "\n",
    "        # Function calls to display all necessary product information\n",
    "        d['title'].append(get_title(new_soup))\n",
    "        d['price'].append(get_price(new_soup))\n",
    "        d['rating'].append(get_rating(new_soup))\n",
    "        \n",
    "       \n"
   ]
  },
  {
   "cell_type": "code",
   "execution_count": null,
   "id": "60df0364",
   "metadata": {},
   "outputs": [],
   "source": [
    "# Adding new data to existing dictionary\n",
    "\n",
    "d['rating_count'] = []\n",
    "\n",
    "for link in links_list:\n",
    "        new_webpage = requests.get(\"https://www.flipkart.com\" + link, headers=HEADERS)\n",
    "\n",
    "        new_soup = BeautifulSoup(new_webpage.content, \"html.parser\")\n",
    "        d['rating_count'].append(get_rating_count(soup))"
   ]
  },
  {
   "cell_type": "code",
   "execution_count": null,
   "id": "9d6478cf",
   "metadata": {},
   "outputs": [],
   "source": [
    "#Making dataframe from dectionary\n",
    "\n",
    "flipkart_df = pd.DataFrame.from_dict(d)"
   ]
  },
  {
   "cell_type": "code",
   "execution_count": null,
   "id": "e5b5d13a",
   "metadata": {
    "scrolled": true
   },
   "outputs": [],
   "source": [
    "flipkart_df\n"
   ]
  },
  {
   "cell_type": "code",
   "execution_count": null,
   "id": "6e38fde8",
   "metadata": {
    "scrolled": true
   },
   "outputs": [],
   "source": [
    "flipkart_df.shape"
   ]
  },
  {
   "cell_type": "code",
   "execution_count": null,
   "id": "55b4ea36",
   "metadata": {},
   "outputs": [],
   "source": [
    "flipkart_df.to_csv(\"flipkart.csv\", header=True, index=False)"
   ]
  },
  {
   "cell_type": "markdown",
   "id": "5e1bace4",
   "metadata": {},
   "source": [
    "# !!!!!!   voila  !!!!!!!\n",
    "\n",
    "## we extracted almost 1000 items details\n"
   ]
  },
  {
   "cell_type": "code",
   "execution_count": null,
   "id": "66e3c1b4",
   "metadata": {},
   "outputs": [],
   "source": []
  }
 ],
 "metadata": {
  "kernelspec": {
   "display_name": "Python 3 (ipykernel)",
   "language": "python",
   "name": "python3"
  },
  "language_info": {
   "codemirror_mode": {
    "name": "ipython",
    "version": 3
   },
   "file_extension": ".py",
   "mimetype": "text/x-python",
   "name": "python",
   "nbconvert_exporter": "python",
   "pygments_lexer": "ipython3",
   "version": "3.10.9"
  }
 },
 "nbformat": 4,
 "nbformat_minor": 5
}
