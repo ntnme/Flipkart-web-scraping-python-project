{
 "cells": [
  {
   "cell_type": "code",
   "execution_count": 31,
   "id": "dd4bc220",
   "metadata": {},
   "outputs": [],
   "source": [
    "#Importing Pakages\n",
    "\n",
    "import requests\n",
    "import os\n",
    "import pandas as pd\n",
    "from bs4 import BeautifulSoup\n",
    "import numpy as np\n"
   ]
  },
  {
   "cell_type": "code",
   "execution_count": 2,
   "id": "10d10d08",
   "metadata": {},
   "outputs": [],
   "source": [
    "# Defining URL of Flipkart Mobile Section \n",
    "\n",
    "url = 'https://www.flipkart.com/search?q=mobiles&as=on&as-show=on&otracker=AS_Query_OrganicAutoSuggest_3_6_na_na_na&otracker1=AS_Query_OrganicAutoSuggest_3_6_na_na_na&as-pos=3&as-type=RECENT&suggestionId=mobiles&requestId=3402ee8a-8701-4a37-b8c0-35d268d9742c&as-backfill=on'"
   ]
  },
  {
   "cell_type": "code",
   "execution_count": 3,
   "id": "1f4c99a1",
   "metadata": {},
   "outputs": [],
   "source": [
    "# Headers for request\n",
    "\n",
    "HEADERS = ({'User-Agent':'Mozilla/5.0 (Windows NT 10.0; Win64; x64) AppleWebKit/537.36 (KHTML, like Gecko) Chrome/117.0.0.0 Safari/537.36', 'Accept-Language': 'en-US, en;q=0.5'}) "
   ]
  },
  {
   "cell_type": "code",
   "execution_count": 4,
   "id": "e938b305",
   "metadata": {
    "scrolled": true
   },
   "outputs": [
    {
     "data": {
      "text/plain": [
       "<Response [200]>"
      ]
     },
     "execution_count": 4,
     "metadata": {},
     "output_type": "execute_result"
    }
   ],
   "source": [
    "# Requesting webpage using requests.get\n",
    "\n",
    "webpage = requests.get(url , headers = HEADERS)\n",
    "\n",
    "webpage"
   ]
  },
  {
   "cell_type": "code",
   "execution_count": 5,
   "id": "39f0eed9",
   "metadata": {},
   "outputs": [
    {
     "data": {
      "text/plain": [
       "bytes"
      ]
     },
     "execution_count": 5,
     "metadata": {},
     "output_type": "execute_result"
    }
   ],
   "source": [
    "# Checking type of content Present on the Webpage\n",
    "\n",
    "type(webpage.content)"
   ]
  },
  {
   "cell_type": "code",
   "execution_count": 6,
   "id": "85c4c138",
   "metadata": {},
   "outputs": [],
   "source": [
    "# Parsing HTML Content\n",
    "\n",
    "soup = BeautifulSoup(webpage.content,\"html.parser\")"
   ]
  },
  {
   "cell_type": "code",
   "execution_count": 8,
   "id": "1fa117f0",
   "metadata": {},
   "outputs": [],
   "source": [
    "links = soup.find_all('a' , attrs = {'class' : '_1fQZEK'})"
   ]
  },
  {
   "cell_type": "code",
   "execution_count": 25,
   "id": "e82c2b0c",
   "metadata": {},
   "outputs": [],
   "source": [
    "# Defing functions for the items we want to Extract\n",
    "\n",
    "def get_title(soup):\n",
    "    \n",
    "    title = new_soup.find(\"span\" , attrs = {\"class\" : 'B_NuCI'}).text \n",
    "    \n",
    "    return title\n",
    "\n",
    "\n",
    "def get_price(soup):\n",
    "     \n",
    "        price =new_soup.find(\"div\" , attrs = {\"class\" : '_30jeq3 _16Jk6d'}).text\n",
    "        \n",
    "        return price\n",
    "    \n",
    "def get_rating(soup):\n",
    "    \n",
    "    rating = new_soup.find(\"div\" , attrs = {\"class\" : '_3LWZlK'}).text\n",
    "    \n",
    "    return rating\n",
    "    \n",
    "def get_rating_count(soup):    \n",
    "    rating_span = new_soup.find(\"span\", class_=\"_2_R_DZ\")\n",
    "    \n",
    "    if rating_span:\n",
    "        rating_text = rating_span.text.strip()\n",
    "        rating_count = rating_text.split(\"&\")[0].strip()\n",
    "                \n",
    "    else:\n",
    "        print(\"Rating span not found.\")\n",
    "     \n",
    "    return rating_count\n",
    "    "
   ]
  },
  {
   "cell_type": "code",
   "execution_count": 26,
   "id": "697818fd",
   "metadata": {},
   "outputs": [],
   "source": [
    "# Making List of Links\n",
    "# open each link and scrape the data\n",
    "\n",
    "links_list = []\n",
    "\n",
    "for link in links:\n",
    "    links_list.append(link.get('href'))"
   ]
  },
  {
   "cell_type": "code",
   "execution_count": 34,
   "id": "3130c28e",
   "metadata": {},
   "outputs": [],
   "source": [
    "#Making Dictionary to store the data\n",
    "\n",
    "d = {\"title\":[], \"price\":[], \"rating\":[], \"reviews\":[]}"
   ]
  },
  {
   "cell_type": "code",
   "execution_count": 35,
   "id": "b7da2cc3",
   "metadata": {},
   "outputs": [],
   "source": [
    "# Loop for extracting product details from each link \n",
    "\n",
    "for link in links_list:\n",
    "        new_webpage = requests.get(\"https://www.flipkart.com\" + link, headers=HEADERS)\n",
    "\n",
    "        new_soup = BeautifulSoup(new_webpage.content, \"html.parser\")\n",
    "\n",
    "        # Function calls to display all necessary product information\n",
    "        d['title'].append(get_title(new_soup))\n",
    "        d['price'].append(get_price(new_soup))\n",
    "        d['rating'].append(get_rating(new_soup))\n",
    "        d['reviews'].append(get_rating_count(new_soup))\n",
    "       \n"
   ]
  },
  {
   "cell_type": "code",
   "execution_count": 37,
   "id": "9d6478cf",
   "metadata": {},
   "outputs": [],
   "source": [
    "#Making dataframe from dectionary\n",
    "\n",
    "flipkart_df = pd.DataFrame.from_dict(d)"
   ]
  },
  {
   "cell_type": "code",
   "execution_count": 38,
   "id": "e5b5d13a",
   "metadata": {},
   "outputs": [
    {
     "data": {
      "text/html": [
       "<div>\n",
       "<style scoped>\n",
       "    .dataframe tbody tr th:only-of-type {\n",
       "        vertical-align: middle;\n",
       "    }\n",
       "\n",
       "    .dataframe tbody tr th {\n",
       "        vertical-align: top;\n",
       "    }\n",
       "\n",
       "    .dataframe thead th {\n",
       "        text-align: right;\n",
       "    }\n",
       "</style>\n",
       "<table border=\"1\" class=\"dataframe\">\n",
       "  <thead>\n",
       "    <tr style=\"text-align: right;\">\n",
       "      <th></th>\n",
       "      <th>title</th>\n",
       "      <th>price</th>\n",
       "      <th>rating</th>\n",
       "      <th>reviews</th>\n",
       "    </tr>\n",
       "  </thead>\n",
       "  <tbody>\n",
       "    <tr>\n",
       "      <th>0</th>\n",
       "      <td>MOTOROLA G32 (Mineral Gray, 128 GB)  (8 GB RAM)</td>\n",
       "      <td>₹9,999</td>\n",
       "      <td>4.1</td>\n",
       "      <td>60,370 Ratings</td>\n",
       "    </tr>\n",
       "    <tr>\n",
       "      <th>1</th>\n",
       "      <td>OnePlus Nord CE 2 Lite 5G (Blue Tide, 128 GB) ...</td>\n",
       "      <td>₹17,489</td>\n",
       "      <td>4.4</td>\n",
       "      <td>1,14,199 Ratings</td>\n",
       "    </tr>\n",
       "    <tr>\n",
       "      <th>2</th>\n",
       "      <td>SAMSUNG Galaxy F04 (Opal Green, 64 GB)  (4 GB ...</td>\n",
       "      <td>₹6,499</td>\n",
       "      <td>4.2</td>\n",
       "      <td>46,877 Ratings</td>\n",
       "    </tr>\n",
       "    <tr>\n",
       "      <th>3</th>\n",
       "      <td>MOTOROLA e13 (Aurora Green, 64 GB)  (4 GB RAM)</td>\n",
       "      <td>₹6,499</td>\n",
       "      <td>4</td>\n",
       "      <td>54,866 Ratings</td>\n",
       "    </tr>\n",
       "    <tr>\n",
       "      <th>4</th>\n",
       "      <td>Infinix SMART 7 (Azure Blue, 64 GB)  (4 GB RAM)</td>\n",
       "      <td>₹6,699</td>\n",
       "      <td>4.3</td>\n",
       "      <td>80,202 Ratings</td>\n",
       "    </tr>\n",
       "    <tr>\n",
       "      <th>5</th>\n",
       "      <td>MOTOROLA e13 (Aurora Green, 128 GB)  (8 GB RAM)</td>\n",
       "      <td>₹7,499</td>\n",
       "      <td>4</td>\n",
       "      <td>2,339 Ratings</td>\n",
       "    </tr>\n",
       "    <tr>\n",
       "      <th>6</th>\n",
       "      <td>SAMSUNG Galaxy F04 (Jade Purple, 64 GB)  (4 GB...</td>\n",
       "      <td>₹6,499</td>\n",
       "      <td>4.2</td>\n",
       "      <td>46,877 Ratings</td>\n",
       "    </tr>\n",
       "    <tr>\n",
       "      <th>7</th>\n",
       "      <td>Infinix Note 30 5G (Sunset Gold, 128 GB)  (4 G...</td>\n",
       "      <td>₹13,499</td>\n",
       "      <td>4.1</td>\n",
       "      <td>2,740 Ratings</td>\n",
       "    </tr>\n",
       "    <tr>\n",
       "      <th>8</th>\n",
       "      <td>Infinix SMART 7 (Night Black, 128 GB)  (4 GB RAM)</td>\n",
       "      <td>₹6,799</td>\n",
       "      <td>4.3</td>\n",
       "      <td>80,202 Ratings</td>\n",
       "    </tr>\n",
       "    <tr>\n",
       "      <th>9</th>\n",
       "      <td>Infinix SMART 7 (Emerald Green, 128 GB)  (4 GB...</td>\n",
       "      <td>₹6,799</td>\n",
       "      <td>4.3</td>\n",
       "      <td>80,202 Ratings</td>\n",
       "    </tr>\n",
       "    <tr>\n",
       "      <th>10</th>\n",
       "      <td>MOTOROLA g84 5G (Midnight Blue, 256 GB)  (12 G...</td>\n",
       "      <td>₹17,999</td>\n",
       "      <td>4.1</td>\n",
       "      <td>3,406 Ratings</td>\n",
       "    </tr>\n",
       "    <tr>\n",
       "      <th>11</th>\n",
       "      <td>Infinix SMART 7 (Emerald Green, 64 GB)  (4 GB ...</td>\n",
       "      <td>₹6,699</td>\n",
       "      <td>4.3</td>\n",
       "      <td>80,202 Ratings</td>\n",
       "    </tr>\n",
       "    <tr>\n",
       "      <th>12</th>\n",
       "      <td>Infinix HOT 30i (Diamond White, 128 GB)  (8 GB...</td>\n",
       "      <td>₹8,499</td>\n",
       "      <td>4.2</td>\n",
       "      <td>85,169 Ratings</td>\n",
       "    </tr>\n",
       "    <tr>\n",
       "      <th>13</th>\n",
       "      <td>Infinix HOT 30i (Marigold, 128 GB)  (8 GB RAM)</td>\n",
       "      <td>₹8,499</td>\n",
       "      <td>4.2</td>\n",
       "      <td>85,169 Ratings</td>\n",
       "    </tr>\n",
       "    <tr>\n",
       "      <th>14</th>\n",
       "      <td>Infinix HOT 30i (Glacier Blue, 128 GB)  (8 GB ...</td>\n",
       "      <td>₹8,499</td>\n",
       "      <td>4.2</td>\n",
       "      <td>85,169 Ratings</td>\n",
       "    </tr>\n",
       "    <tr>\n",
       "      <th>15</th>\n",
       "      <td>Infinix HOT 30i (Marigold, 64 GB)  (4 GB RAM)</td>\n",
       "      <td>₹7,499</td>\n",
       "      <td>4.2</td>\n",
       "      <td>18,542 Ratings</td>\n",
       "    </tr>\n",
       "    <tr>\n",
       "      <th>16</th>\n",
       "      <td>Infinix HOT 30i (Diamond White, 64 GB)  (4 GB ...</td>\n",
       "      <td>₹7,499</td>\n",
       "      <td>4.2</td>\n",
       "      <td>18,542 Ratings</td>\n",
       "    </tr>\n",
       "    <tr>\n",
       "      <th>17</th>\n",
       "      <td>Infinix HOT 30i (Glacier Blue, 64 GB)  (4 GB RAM)</td>\n",
       "      <td>₹7,499</td>\n",
       "      <td>4.2</td>\n",
       "      <td>18,542 Ratings</td>\n",
       "    </tr>\n",
       "    <tr>\n",
       "      <th>18</th>\n",
       "      <td>MOTOROLA g84 5G (Marshmallow Blue, 256 GB)  (1...</td>\n",
       "      <td>₹17,999</td>\n",
       "      <td>4.1</td>\n",
       "      <td>3,406 Ratings</td>\n",
       "    </tr>\n",
       "    <tr>\n",
       "      <th>19</th>\n",
       "      <td>Infinix SMART 7 (Night Black, 64 GB)  (4 GB RAM)</td>\n",
       "      <td>₹6,699</td>\n",
       "      <td>4.3</td>\n",
       "      <td>80,202 Ratings</td>\n",
       "    </tr>\n",
       "    <tr>\n",
       "      <th>20</th>\n",
       "      <td>Infinix HOT 30i (Mirror Black, 128 GB)  (8 GB ...</td>\n",
       "      <td>₹8,499</td>\n",
       "      <td>4.2</td>\n",
       "      <td>85,169 Ratings</td>\n",
       "    </tr>\n",
       "    <tr>\n",
       "      <th>21</th>\n",
       "      <td>Infinix HOT 30i (Mirror Black, 64 GB)  (4 GB RAM)</td>\n",
       "      <td>₹7,499</td>\n",
       "      <td>4.2</td>\n",
       "      <td>18,542 Ratings</td>\n",
       "    </tr>\n",
       "    <tr>\n",
       "      <th>22</th>\n",
       "      <td>Infinix SMART 7 (Azure Blue, 128 GB)  (4 GB RAM)</td>\n",
       "      <td>₹6,799</td>\n",
       "      <td>4.3</td>\n",
       "      <td>80,202 Ratings</td>\n",
       "    </tr>\n",
       "    <tr>\n",
       "      <th>23</th>\n",
       "      <td>MOTOROLA e13 (Little Boy Blue, 128 GB)  (8 GB ...</td>\n",
       "      <td>₹7,499</td>\n",
       "      <td>4</td>\n",
       "      <td>2,339 Ratings</td>\n",
       "    </tr>\n",
       "  </tbody>\n",
       "</table>\n",
       "</div>"
      ],
      "text/plain": [
       "                                                title    price rating  \\\n",
       "0     MOTOROLA G32 (Mineral Gray, 128 GB)  (8 GB RAM)   ₹9,999    4.1   \n",
       "1   OnePlus Nord CE 2 Lite 5G (Blue Tide, 128 GB) ...  ₹17,489    4.4   \n",
       "2   SAMSUNG Galaxy F04 (Opal Green, 64 GB)  (4 GB ...   ₹6,499    4.2   \n",
       "3      MOTOROLA e13 (Aurora Green, 64 GB)  (4 GB RAM)   ₹6,499      4   \n",
       "4     Infinix SMART 7 (Azure Blue, 64 GB)  (4 GB RAM)   ₹6,699    4.3   \n",
       "5     MOTOROLA e13 (Aurora Green, 128 GB)  (8 GB RAM)   ₹7,499      4   \n",
       "6   SAMSUNG Galaxy F04 (Jade Purple, 64 GB)  (4 GB...   ₹6,499    4.2   \n",
       "7   Infinix Note 30 5G (Sunset Gold, 128 GB)  (4 G...  ₹13,499    4.1   \n",
       "8   Infinix SMART 7 (Night Black, 128 GB)  (4 GB RAM)   ₹6,799    4.3   \n",
       "9   Infinix SMART 7 (Emerald Green, 128 GB)  (4 GB...   ₹6,799    4.3   \n",
       "10  MOTOROLA g84 5G (Midnight Blue, 256 GB)  (12 G...  ₹17,999    4.1   \n",
       "11  Infinix SMART 7 (Emerald Green, 64 GB)  (4 GB ...   ₹6,699    4.3   \n",
       "12  Infinix HOT 30i (Diamond White, 128 GB)  (8 GB...   ₹8,499    4.2   \n",
       "13     Infinix HOT 30i (Marigold, 128 GB)  (8 GB RAM)   ₹8,499    4.2   \n",
       "14  Infinix HOT 30i (Glacier Blue, 128 GB)  (8 GB ...   ₹8,499    4.2   \n",
       "15      Infinix HOT 30i (Marigold, 64 GB)  (4 GB RAM)   ₹7,499    4.2   \n",
       "16  Infinix HOT 30i (Diamond White, 64 GB)  (4 GB ...   ₹7,499    4.2   \n",
       "17  Infinix HOT 30i (Glacier Blue, 64 GB)  (4 GB RAM)   ₹7,499    4.2   \n",
       "18  MOTOROLA g84 5G (Marshmallow Blue, 256 GB)  (1...  ₹17,999    4.1   \n",
       "19   Infinix SMART 7 (Night Black, 64 GB)  (4 GB RAM)   ₹6,699    4.3   \n",
       "20  Infinix HOT 30i (Mirror Black, 128 GB)  (8 GB ...   ₹8,499    4.2   \n",
       "21  Infinix HOT 30i (Mirror Black, 64 GB)  (4 GB RAM)   ₹7,499    4.2   \n",
       "22   Infinix SMART 7 (Azure Blue, 128 GB)  (4 GB RAM)   ₹6,799    4.3   \n",
       "23  MOTOROLA e13 (Little Boy Blue, 128 GB)  (8 GB ...   ₹7,499      4   \n",
       "\n",
       "             reviews  \n",
       "0     60,370 Ratings  \n",
       "1   1,14,199 Ratings  \n",
       "2     46,877 Ratings  \n",
       "3     54,866 Ratings  \n",
       "4     80,202 Ratings  \n",
       "5      2,339 Ratings  \n",
       "6     46,877 Ratings  \n",
       "7      2,740 Ratings  \n",
       "8     80,202 Ratings  \n",
       "9     80,202 Ratings  \n",
       "10     3,406 Ratings  \n",
       "11    80,202 Ratings  \n",
       "12    85,169 Ratings  \n",
       "13    85,169 Ratings  \n",
       "14    85,169 Ratings  \n",
       "15    18,542 Ratings  \n",
       "16    18,542 Ratings  \n",
       "17    18,542 Ratings  \n",
       "18     3,406 Ratings  \n",
       "19    80,202 Ratings  \n",
       "20    85,169 Ratings  \n",
       "21    18,542 Ratings  \n",
       "22    80,202 Ratings  \n",
       "23     2,339 Ratings  "
      ]
     },
     "execution_count": 38,
     "metadata": {},
     "output_type": "execute_result"
    }
   ],
   "source": [
    "flipkart_df"
   ]
  },
  {
   "cell_type": "code",
   "execution_count": 41,
   "id": "6e38fde8",
   "metadata": {
    "scrolled": true
   },
   "outputs": [
    {
     "data": {
      "text/plain": [
       "(24, 4)"
      ]
     },
     "execution_count": 41,
     "metadata": {},
     "output_type": "execute_result"
    }
   ],
   "source": [
    "flipkart_df.shape"
   ]
  },
  {
   "cell_type": "code",
   "execution_count": 44,
   "id": "55b4ea36",
   "metadata": {},
   "outputs": [],
   "source": [
    "flipkart_df.to_csv(\"flipkart.csv\", header=True, index=False)"
   ]
  },
  {
   "cell_type": "markdown",
   "id": "5e1bace4",
   "metadata": {},
   "source": [
    "# !!!!!!   voila  !!!!!!!"
   ]
  },
  {
   "cell_type": "code",
   "execution_count": null,
   "id": "66e3c1b4",
   "metadata": {},
   "outputs": [],
   "source": []
  }
 ],
 "metadata": {
  "kernelspec": {
   "display_name": "Python 3 (ipykernel)",
   "language": "python",
   "name": "python3"
  },
  "language_info": {
   "codemirror_mode": {
    "name": "ipython",
    "version": 3
   },
   "file_extension": ".py",
   "mimetype": "text/x-python",
   "name": "python",
   "nbconvert_exporter": "python",
   "pygments_lexer": "ipython3",
   "version": "3.10.9"
  }
 },
 "nbformat": 4,
 "nbformat_minor": 5
}
